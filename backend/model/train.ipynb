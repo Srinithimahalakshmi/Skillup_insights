{
 "cells": [
  {
   "cell_type": "code",
   "execution_count": 1,
   "id": "cb97df97",
   "metadata": {},
   "outputs": [],
   "source": [
    "import pandas as pd\n",
    "from pathlib import Path\n",
    "from sklearn.feature_extraction.text import TfidfVectorizer\n",
    "from sklearn.neighbors import NearestNeighbors\n",
    "import joblib"
   ]
  },
  {
   "cell_type": "code",
   "execution_count": 2,
   "id": "97b0840f",
   "metadata": {},
   "outputs": [],
   "source": [
    "DATA_FILE = Path(\"data/sample.csv\")\n",
    "MODEL_FILE = Path(\"model/recommender.pkl\")"
   ]
  },
  {
   "cell_type": "code",
   "execution_count": 4,
   "id": "b218281a",
   "metadata": {},
   "outputs": [],
   "source": [
    "DEFAULT_DATA = [\n",
    "    (\"Software Engineer\", \"python, algorithms, data structures, git, sql, problem solving\"),\n",
    "    (\"Data Scientist\", \"python, pandas, numpy, machine learning, statistics, sklearn, sql\"),\n",
    "    (\"Web Developer\", \"html, css, javascript, react, git, web\"),\n",
    "    (\"ML Engineer\", \"python, sklearn, tensorflow, mlops, docker, model deployment\"),\n",
    "    (\"Business Analyst\", \"excel, sql, data visualization, tableau, communication, statistics\"),\n",
    "    (\"DevOps Engineer\", \"linux, docker, ci cd, kubernetes, aws, bash, git\"),\n",
    "    (\"Cybersecurity Analyst\", \"networking, linux, security, risk, monitoring, scripting\"),\n",
    "    (\"UI/UX Designer\", \"figma, design, prototyping, user research, wireframing, css\"),\n",
    "    (\"Cloud Architect\", \"aws, azure, gcp, cloud, networking, security, terraform\"),\n",
    "    (\"Database Admin\", \"sql, postgres, backup, performance tuning, normalization\")\n",
    "]"
   ]
  },
  {
   "cell_type": "code",
   "execution_count": 6,
   "id": "552337d6",
   "metadata": {},
   "outputs": [],
   "source": [
    "DATA_FILE.parent.mkdir(parents=True, exist_ok=True)\n",
    "MODEL_FILE.parent.mkdir(parents=True, exist_ok=True)"
   ]
  },
  {
   "cell_type": "code",
   "execution_count": 7,
   "id": "94c004cc",
   "metadata": {},
   "outputs": [
    {
     "name": "stdout",
     "output_type": "stream",
     "text": [
      "Saved sample dataset → data\\sample.csv\n"
     ]
    },
    {
     "data": {
      "text/html": [
       "<div>\n",
       "<style scoped>\n",
       "    .dataframe tbody tr th:only-of-type {\n",
       "        vertical-align: middle;\n",
       "    }\n",
       "\n",
       "    .dataframe tbody tr th {\n",
       "        vertical-align: top;\n",
       "    }\n",
       "\n",
       "    .dataframe thead th {\n",
       "        text-align: right;\n",
       "    }\n",
       "</style>\n",
       "<table border=\"1\" class=\"dataframe\">\n",
       "  <thead>\n",
       "    <tr style=\"text-align: right;\">\n",
       "      <th></th>\n",
       "      <th>career</th>\n",
       "      <th>skills</th>\n",
       "    </tr>\n",
       "  </thead>\n",
       "  <tbody>\n",
       "    <tr>\n",
       "      <th>0</th>\n",
       "      <td>Software Engineer</td>\n",
       "      <td>python, algorithms, data structures, git, sql,...</td>\n",
       "    </tr>\n",
       "    <tr>\n",
       "      <th>1</th>\n",
       "      <td>Data Scientist</td>\n",
       "      <td>python, pandas, numpy, machine learning, stati...</td>\n",
       "    </tr>\n",
       "    <tr>\n",
       "      <th>2</th>\n",
       "      <td>Web Developer</td>\n",
       "      <td>html, css, javascript, react, git, web</td>\n",
       "    </tr>\n",
       "    <tr>\n",
       "      <th>3</th>\n",
       "      <td>ML Engineer</td>\n",
       "      <td>python, sklearn, tensorflow, mlops, docker, mo...</td>\n",
       "    </tr>\n",
       "    <tr>\n",
       "      <th>4</th>\n",
       "      <td>Business Analyst</td>\n",
       "      <td>excel, sql, data visualization, tableau, commu...</td>\n",
       "    </tr>\n",
       "  </tbody>\n",
       "</table>\n",
       "</div>"
      ],
      "text/plain": [
       "              career                                             skills\n",
       "0  Software Engineer  python, algorithms, data structures, git, sql,...\n",
       "1     Data Scientist  python, pandas, numpy, machine learning, stati...\n",
       "2      Web Developer             html, css, javascript, react, git, web\n",
       "3        ML Engineer  python, sklearn, tensorflow, mlops, docker, mo...\n",
       "4   Business Analyst  excel, sql, data visualization, tableau, commu..."
      ]
     },
     "execution_count": 7,
     "metadata": {},
     "output_type": "execute_result"
    }
   ],
   "source": [
    "if not DATA_FILE.exists():\n",
    "    df = pd.DataFrame(DEFAULT_DATA, columns=[\"career\", \"skills\"])\n",
    "    df.to_csv(DATA_FILE, index=False)\n",
    "    print(f\"Saved sample dataset → {DATA_FILE}\")\n",
    "else:\n",
    "    df = pd.read_csv(DATA_FILE)\n",
    "    print(f\"Loaded dataset → {DATA_FILE}\")\n",
    "\n",
    "df.head()"
   ]
  },
  {
   "cell_type": "code",
   "execution_count": 8,
   "id": "8419786f",
   "metadata": {},
   "outputs": [
    {
     "name": "stdout",
     "output_type": "stream",
     "text": [
      "TF-IDF features shape: (10, 54)\n"
     ]
    }
   ],
   "source": [
    "# 🔹 TF-IDF vectorization of skills\n",
    "vectorizer = TfidfVectorizer(token_pattern=r\"[a-zA-Z\\+\\#]+\")\n",
    "X = vectorizer.fit_transform(df[\"skills\"].astype(str))\n",
    "\n",
    "print(\"TF-IDF features shape:\", X.shape)\n"
   ]
  },
  {
   "cell_type": "code",
   "execution_count": 9,
   "id": "dd606295",
   "metadata": {},
   "outputs": [
    {
     "name": "stdout",
     "output_type": "stream",
     "text": [
      "NearestNeighbors model trained successfully!\n"
     ]
    }
   ],
   "source": [
    "# 🔹 Train NearestNeighbors model\n",
    "nn = NearestNeighbors(metric=\"cosine\")\n",
    "nn.fit(X)\n",
    "print(\"NearestNeighbors model trained successfully!\")\n"
   ]
  },
  {
   "cell_type": "code",
   "execution_count": 10,
   "id": "26bb0ca9",
   "metadata": {},
   "outputs": [
    {
     "name": "stdout",
     "output_type": "stream",
     "text": [
      "Model bundle prepared!\n"
     ]
    }
   ],
   "source": [
    "# 🔹 Prepare model bundle\n",
    "model_bundle = {\n",
    "    \"vectorizer\": vectorizer,\n",
    "    \"nn\": nn,\n",
    "    \"careers\": df[\"career\"].tolist(),\n",
    "    \"catalog_skills\": sorted(\n",
    "        set(s.strip() for row in df[\"skills\"] for s in str(row).split(\",\") if s.strip())\n",
    "    )\n",
    "}\n",
    "\n",
    "print(\"Model bundle prepared!\")\n"
   ]
  },
  {
   "cell_type": "code",
   "execution_count": 11,
   "id": "00c71aff",
   "metadata": {},
   "outputs": [
    {
     "name": "stdout",
     "output_type": "stream",
     "text": [
      "Saved trained model → model\\recommender.pkl\n"
     ]
    }
   ],
   "source": [
    "# 🔹 Save model to disk using joblib\n",
    "joblib.dump(model_bundle, MODEL_FILE)\n",
    "print(f\"Saved trained model → {MODEL_FILE}\")\n"
   ]
  },
  {
   "cell_type": "code",
   "execution_count": 12,
   "id": "cdba6abd",
   "metadata": {},
   "outputs": [
    {
     "name": "stdout",
     "output_type": "stream",
     "text": [
      "Sample Skills: ['python', 'pandas', 'sql']\n",
      "Recommended Careers: ['Data Scientist', 'Software Engineer', 'ML Engineer']\n"
     ]
    }
   ],
   "source": [
    "# 🔹 Optional: Test the model with sample skills\n",
    "sample_skills = [\"python\", \"pandas\", \"sql\"]\n",
    "skill_text = \", \".join(sample_skills).lower()\n",
    "vec = vectorizer.transform([skill_text])\n",
    "distances, idx = nn.kneighbors(vec, n_neighbors=3)\n",
    "\n",
    "recommendations = [df[\"career\"].iloc[i] for i in idx[0]]\n",
    "print(\"Sample Skills:\", sample_skills)\n",
    "print(\"Recommended Careers:\", recommendations)\n"
   ]
  }
 ],
 "metadata": {
  "kernelspec": {
   "display_name": "Python 3",
   "language": "python",
   "name": "python3"
  },
  "language_info": {
   "codemirror_mode": {
    "name": "ipython",
    "version": 3
   },
   "file_extension": ".py",
   "mimetype": "text/x-python",
   "name": "python",
   "nbconvert_exporter": "python",
   "pygments_lexer": "ipython3",
   "version": "3.10.9"
  }
 },
 "nbformat": 4,
 "nbformat_minor": 5
}
